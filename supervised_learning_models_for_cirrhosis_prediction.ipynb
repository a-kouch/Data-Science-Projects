{
 "cells": [
  {
   "cell_type": "markdown",
   "id": "36815a63-e432-4ed5-8914-48792e156827",
   "metadata": {},
   "source": [
    "# Supervised Learning Models for Cirrhosis Prediction"
   ]
  },
  {
   "cell_type": "markdown",
   "id": "ae116a7f-a67f-4dc0-ad5a-0c3163528cdc",
   "metadata": {},
   "source": [
    "## Abstract\n",
    "\n",
    "The goal of this project was to create multiple machine learning models to find the best model used to predict the survival state of patients with liver cirrhosis. The survival states include: 0 = D (death), 1 = C (censored) and 2 = CL (censored due to liver transplantation).\n",
    "\n",
    "This project involved data wrangling using Python to extract clean and consolidate the data by handling missing values. The categorical features in the data were then encoded followed by handling class imbalance within the dataset. Once the data was pre-processed, supervised machine learning models were then created and evaluated to predict the 'Status' feature. Hyperparameters for these models were optimised using GridSearch.\n",
    "\n",
    "The models used in this project were: Support Vector Machine (SVM), K-nearest Neighbours (KNN), Random Forest and Extreme Gradient Boosting (XGBoost)\n",
    "\n",
    "## Background \n",
    "\n",
    "Cirrhosis results from prolonged liver damage, leading to extensive scarring, often due to conditions like hepatitis or chronic alcohol consumption. The data provided is sourced from a Mayo Clinic study on primary biliary cirrhosis (PBC) of the liver carried out from 1974 to 1984.\n",
    "\n",
    "**Load and explore the training and test dataset, do necessary pre-processing.**"
   ]
  },
  {
   "cell_type": "code",
   "execution_count": 3,
   "id": "5542ef6f-f378-49b0-9a5d-e5dcc3c2aa66",
   "metadata": {
    "tags": []
   },
   "outputs": [],
   "source": [
    "import numpy as np\n",
    "import pandas as pd\n",
    "import matplotlib.pyplot as plt\n",
    "\n",
    "pd.set_option(\"display.notebook_repr_html\", False)  # disable \"rich\" output\n",
    "\n",
    "# Read csv files as a pandas DataFrame\n",
    "test_data = pd.read_csv(\"crrrhosis_test.csv\", comment=\"#\")\n",
    "\n",
    "train_data = pd.read_csv(\"cirrhosis_train.csv\", comment=\"#\")"
   ]
  },
  {
   "cell_type": "markdown",
   "id": "1f55510f-e7ca-4856-9564-ea949b3c5f5e",
   "metadata": {},
   "source": [
    "**Preview the data**"
   ]
  },
  {
   "cell_type": "code",
   "execution_count": 4,
   "id": "ebe59ccd-4848-4b9f-bae0-cbf9edb08612",
   "metadata": {
    "tags": []
   },
   "outputs": [
    {
     "data": {
      "text/plain": [
       "   testID  N_Days  Status             Drug    Age Sex Ascites Hepatomegaly  \\\n",
       "0       1    2583     NaN  D-penicillamine  18393   F       N            N   \n",
       "1       2    1360     NaN  D-penicillamine  24020   M       N            N   \n",
       "2       3    3445     NaN          Placebo  23445   M       N            Y   \n",
       "3       4    1235     NaN  D-penicillamine  23241   F       N            N   \n",
       "4       5     786     NaN          Placebo  16839   F       N            Y   \n",
       "\n",
       "  Spiders Edema  Bilirubin  Cholesterol  Albumin  Copper  Alk_Phos    SGOT  \\\n",
       "0       N     N        0.4        127.0     3.50      14    1062.0   49.60   \n",
       "1       N     N        1.8        416.0     3.94     121   10165.0   79.98   \n",
       "2       Y     N        0.6        252.0     3.83      41     843.0   65.10   \n",
       "3       Y     N        3.8        426.0     3.22      96    2716.0  210.80   \n",
       "4       N     N        2.9        332.0     3.60      86    1492.0  134.85   \n",
       "\n",
       "   Tryglicerides  Platelets  Prothrombin  Stage  \n",
       "0           84.0      334.0         10.3      2  \n",
       "1          219.0      213.0         11.0      3  \n",
       "2           83.0      336.0         11.4      4  \n",
       "3          113.0      228.0         10.6      2  \n",
       "4          103.0      277.0         11.0      4  "
      ]
     },
     "execution_count": 4,
     "metadata": {},
     "output_type": "execute_result"
    }
   ],
   "source": [
    "test_data.head(5)"
   ]
  },
  {
   "cell_type": "code",
   "execution_count": 4,
   "id": "555e506d-1cde-4cf8-9965-285bbf884e74",
   "metadata": {
    "tags": []
   },
   "outputs": [
    {
     "data": {
      "text/plain": [
       "   trainID  N_Days Status             Drug    Age Sex Ascites Hepatomegaly  \\\n",
       "0        1     191      D          Placebo  24803   M       Y            Y   \n",
       "1        2     326      D          Placebo  18199   F       N            Y   \n",
       "2        3    1067     CL          Placebo  17874   F       N            Y   \n",
       "3        4     824      D  D-penicillamine  19577   F       Y            Y   \n",
       "4        5     186      D          Placebo  21483   F       N            Y   \n",
       "\n",
       "  Spiders Edema  Bilirubin  Cholesterol  Albumin  Copper  Alk_Phos    SGOT  \\\n",
       "0       N     Y        1.3        151.0     3.08    73.0    1112.0   46.50   \n",
       "1       Y     S        6.6        244.0     3.41   199.0    1819.0  170.50   \n",
       "2       N     S        8.7        310.0     3.89   107.0     637.0  117.00   \n",
       "3       Y     N        1.2        269.0     3.12     NaN    1441.0  165.85   \n",
       "4       Y     N        3.2        260.0     3.19    91.0     815.0  127.10   \n",
       "\n",
       "   Tryglicerides  Platelets  Prothrombin  Stage  \n",
       "0           49.0      213.0         13.2      4  \n",
       "1           91.0      132.0         12.1      3  \n",
       "2          242.0      298.0          9.6      2  \n",
       "3           68.0      166.0         11.1      4  \n",
       "4          101.0      160.0         12.0      4  "
      ]
     },
     "execution_count": 4,
     "metadata": {},
     "output_type": "execute_result"
    }
   ],
   "source": [
    "train_data.head(5)"
   ]
  },
  {
   "cell_type": "markdown",
   "id": "10dd4f0b-11ff-4ad3-aadf-7791228fcaac",
   "metadata": {},
   "source": [
    "**Check training and test dataset size.**"
   ]
  },
  {
   "cell_type": "code",
   "execution_count": 5,
   "id": "48230b2a-aaa3-4042-aca3-40f3b7bbdc54",
   "metadata": {
    "tags": []
   },
   "outputs": [
    {
     "name": "stdout",
     "output_type": "stream",
     "text": [
      "Size of the training datset: (88, 20)\n",
      "Size of the test datset: (224, 20)\n"
     ]
    }
   ],
   "source": [
    "# Show the size of the DataFrame\n",
    "print(\"Size of the training datset:\", test_data.shape)\n",
    "print(\"Size of the test datset:\", train_data.shape)"
   ]
  },
  {
   "cell_type": "markdown",
   "id": "1afd3874-d767-4d29-bd02-18beba19e567",
   "metadata": {},
   "source": [
    "**Identify feature types of the data set**"
   ]
  },
  {
   "cell_type": "code",
   "execution_count": 2,
   "id": "2ede16b7-268e-43cb-a8f6-fb1ead30ea84",
   "metadata": {
    "tags": []
   },
   "outputs": [
    {
     "name": "stdout",
     "output_type": "stream",
     "text": [
      "testID             int64\n",
      "N_Days             int64\n",
      "Status           float64\n",
      "Drug              object\n",
      "Age                int64\n",
      "Sex               object\n",
      "Ascites           object\n",
      "Hepatomegaly      object\n",
      "Spiders           object\n",
      "Edema             object\n",
      "Bilirubin        float64\n",
      "Cholesterol      float64\n",
      "Albumin          float64\n",
      "Copper             int64\n",
      "Alk_Phos         float64\n",
      "SGOT             float64\n",
      "Tryglicerides    float64\n",
      "Platelets        float64\n",
      "Prothrombin      float64\n",
      "Stage              int64\n",
      "dtype: object\n"
     ]
    }
   ],
   "source": [
    "# Show feature types\n",
    "print(test_data.dtypes)"
   ]
  },
  {
   "cell_type": "markdown",
   "id": "6631d3f7-d33e-4f22-8be5-21894f7ee618",
   "metadata": {
    "tags": []
   },
   "source": [
    "**Identify which feature has missing values.**"
   ]
  },
  {
   "cell_type": "code",
   "execution_count": 5,
   "id": "0600fec6-4cd9-4d10-b7cd-072429a92d00",
   "metadata": {
    "tags": []
   },
   "outputs": [
    {
     "name": "stdout",
     "output_type": "stream",
     "text": [
      "Testing Columns with missing values:\n",
      "Status           True\n",
      "Cholesterol      True\n",
      "Tryglicerides    True\n",
      "Platelets        True\n",
      "dtype: bool\n",
      "Training Columns with missing values:\n",
      "Cholesterol      True\n",
      "Copper           True\n",
      "Tryglicerides    True\n",
      "Platelets        True\n",
      "dtype: bool\n"
     ]
    }
   ],
   "source": [
    "# Check for missing values in each column\n",
    "test_missing_values = test_data.isnull().any()\n",
    "train_missing_values = train_data.isnull().any()\n",
    "\n",
    "# Display columns with missing values\n",
    "print(\"Testing Columns with missing values:\")\n",
    "print(test_missing_values[test_missing_values == True])\n",
    "\n",
    "print(\"Training Columns with missing values:\")\n",
    "print(train_missing_values[train_missing_values == True])"
   ]
  },
  {
   "cell_type": "markdown",
   "id": "5874e114-6912-4896-87fb-cb63ac108a3b",
   "metadata": {
    "tags": []
   },
   "source": [
    "**Impute missing values in training data.**"
   ]
  },
  {
   "cell_type": "markdown",
   "id": "046ee255-c42e-4a65-b6f2-2371b1bfaa3d",
   "metadata": {},
   "source": [
    "As the missing values are all floats we can replace them with the mean.\n",
    "\n",
    "The only feature we don't deal with missing values for is the 'Status' feature for the testing set as all values are 'NaN' as this will be predicted based on the features in this set."
   ]
  },
  {
   "cell_type": "code",
   "execution_count": 6,
   "id": "ada0474c-1aff-4613-ac44-837274f0d964",
   "metadata": {
    "tags": []
   },
   "outputs": [
    {
     "name": "stdout",
     "output_type": "stream",
     "text": [
      "Number of missing values after imputation: 0\n"
     ]
    }
   ],
   "source": [
    "from sklearn.impute import SimpleImputer\n",
    "\n",
    "# Columns to apply imputation\n",
    "columns_to_impute = ['Cholesterol', 'Copper', 'Tryglicerides', 'Platelets']\n",
    "\n",
    "# Create an instance of SimpleImputer with strategy='mean'\n",
    "imputer = SimpleImputer(strategy='mean')\n",
    "\n",
    "# Fit and transform only the selected columns\n",
    "imputed_values = imputer.fit_transform(train_data[columns_to_impute])\n",
    "\n",
    "# Create a DataFrame with imputed values\n",
    "df_imputed = pd.DataFrame(imputed_values, columns=columns_to_impute)\n",
    "\n",
    "# Replace the selected columns in the original DataFrame with the imputed values\n",
    "train_data[columns_to_impute] = df_imputed\n",
    "\n",
    "# Check if there are any missing values left\n",
    "print(\"Number of missing values after imputation:\", train_data[columns_to_impute].isnull().sum().sum())"
   ]
  },
  {
   "cell_type": "markdown",
   "id": "d8cf6644-3070-4c48-9214-c3cca57cab85",
   "metadata": {},
   "source": [
    "**Impute missing values in test data.**"
   ]
  },
  {
   "cell_type": "code",
   "execution_count": 8,
   "id": "ccece622-6499-4353-a49e-fbe5ada33789",
   "metadata": {
    "tags": []
   },
   "outputs": [
    {
     "name": "stdout",
     "output_type": "stream",
     "text": [
      "Number of missing values after imputation: 0\n"
     ]
    }
   ],
   "source": [
    "# Columns to apply imputation\n",
    "columns_to_impute = ['Cholesterol', 'Tryglicerides', 'Platelets']\n",
    "\n",
    "# Create an instance of SimpleImputer with strategy='mean'\n",
    "imputer = SimpleImputer(strategy='mean')\n",
    "\n",
    "# Fit and transform only the selected columns\n",
    "imputed_values = imputer.fit_transform(test_data[columns_to_impute])\n",
    "\n",
    "# Create a DataFrame with imputed values\n",
    "df_imputed = pd.DataFrame(imputed_values, columns=columns_to_impute)\n",
    "\n",
    "# Replace the selected columns in the original DataFrame with the imputed values\n",
    "test_data[columns_to_impute] = df_imputed\n",
    "\n",
    "# Check if there are any missing values left\n",
    "print(\"Number of missing values after imputation:\", test_data[columns_to_impute].isnull().sum().sum())"
   ]
  },
  {
   "cell_type": "markdown",
   "id": "d86a99cb-cb9c-4728-9302-ed2bc448c3de",
   "metadata": {},
   "source": [
    "**Feature scale data**"
   ]
  },
  {
   "cell_type": "code",
   "execution_count": 8,
   "id": "eeed995c-e21f-4ba2-a5c9-d53384c3445b",
   "metadata": {
    "tags": []
   },
   "outputs": [
    {
     "name": "stdout",
     "output_type": "stream",
     "text": [
      "Training data scaled:\n",
      "   trainID    N_Days Status     Drug       Age Sex Ascites Hepatomegaly  \\\n",
      "0        1 -1.554713      D  Placebo  1.720921   M       Y            Y   \n",
      "1        2 -1.439311      D  Placebo  0.019242   F       N            Y   \n",
      "2        3 -0.805879     CL  Placebo -0.064502   F       N            Y   \n",
      "\n",
      "  Spiders Edema  Bilirubin  Cholesterol   Albumin    Copper  Alk_Phos  \\\n",
      "0       N     Y  -0.455232    -1.023194 -0.988035 -0.328687 -0.451841   \n",
      "1       Y     S   0.621364    -0.590760 -0.211061  1.184735 -0.149634   \n",
      "2       N     S   1.047940    -0.283871  0.919083  0.079697 -0.654880   \n",
      "\n",
      "       SGOT  Tryglicerides  Platelets  Prothrombin  Stage  \n",
      "0 -1.420221      -1.421174  -0.495242     2.327877      4  \n",
      "1  0.845308      -0.663936  -1.316106     1.266854      3  \n",
      "2 -0.132159       2.058516   0.366158    -1.144561      2  \n",
      "Testing data scaled:\n",
      "   testID    N_Days  Status             Drug       Age Sex Ascites  \\\n",
      "0       1  0.592464     NaN  D-penicillamine -0.065099   F       N   \n",
      "1       2 -0.645684     NaN  D-penicillamine  1.424999   M       N   \n",
      "2       3  1.465141     NaN          Placebo  1.272732   M       N   \n",
      "\n",
      "  Hepatomegaly Spiders Edema  Bilirubin  Cholesterol   Albumin    Copper  \\\n",
      "0            N       N     N  -0.670095    -0.986491 -0.179447 -0.857087   \n",
      "1            N       N     N  -0.229798     0.207462  0.919948  0.337102   \n",
      "2            Y       Y     N  -0.607195    -0.470075  0.645099 -0.555750   \n",
      "\n",
      "   Alk_Phos      SGOT  Tryglicerides  Platelets  Prothrombin  Stage  \n",
      "0 -0.319866 -1.127595      -0.425039   0.848127    -0.303277      2  \n",
      "1  6.206239 -0.628866       1.309269  -0.579248     0.481674      3  \n",
      "2 -0.476871 -0.873141      -0.437885   0.871720     0.930218      4  \n"
     ]
    }
   ],
   "source": [
    "from sklearn.preprocessing import StandardScaler\n",
    "# Select numeric features for scaling\n",
    "numeric_features = ['N_Days', 'Age', 'Bilirubin', 'Cholesterol', 'Albumin', 'Copper', 'Alk_Phos', 'SGOT', 'Tryglicerides', 'Platelets', 'Prothrombin']\n",
    "\n",
    "# Apply StandardScaler to scale the numeric features\n",
    "scaler = StandardScaler()\n",
    "train_data[numeric_features] = scaler.fit_transform(train_data[numeric_features])\n",
    "test_data[numeric_features] = scaler.fit_transform(test_data[numeric_features])\n",
    "\n",
    "# Display the scaled dataframe\n",
    "print(\"Training data scaled:\")\n",
    "print(train_data.head(3))\n",
    "print(\"Testing data scaled:\")\n",
    "print(test_data.head(3))"
   ]
  },
  {
   "cell_type": "markdown",
   "id": "94f65575-93e8-414b-9791-6b2a8afc7dea",
   "metadata": {
    "tags": []
   },
   "source": [
    "**Encode the categorical features.**"
   ]
  },
  {
   "cell_type": "markdown",
   "id": "5540b527-8b61-48fe-8608-7e2edffe811f",
   "metadata": {},
   "source": [
    "One-hot encoding is the method of choice as categorical variables are nominal (unordered) and have no inherent ordinal relationship."
   ]
  },
  {
   "cell_type": "markdown",
   "id": "0c6ee336-ab8d-4a96-a104-bf3adf37e6de",
   "metadata": {},
   "source": [
    "**Encoding testing data**"
   ]
  },
  {
   "cell_type": "code",
   "execution_count": 9,
   "id": "bfbbc465-8bc7-4c56-9125-c495fd5fc89a",
   "metadata": {
    "tags": []
   },
   "outputs": [
    {
     "name": "stdout",
     "output_type": "stream",
     "text": [
      "   testID    N_Days  Status       Age  Bilirubin  Cholesterol   Albumin  \\\n",
      "0       1  0.592464     NaN -0.065099  -0.670095    -0.986491 -0.179447   \n",
      "1       2 -0.645684     NaN  1.424999  -0.229798     0.207462  0.919948   \n",
      "2       3  1.465141     NaN  1.272732  -0.607195    -0.470075  0.645099   \n",
      "3       4 -0.772232     NaN  1.218710   0.399198     0.248775 -0.879061   \n",
      "4       5 -1.226793     NaN -0.476617   0.116150    -0.139569  0.070416   \n",
      "\n",
      "     Copper  Alk_Phos      SGOT  ...  Ascites_Y  Hepatomegaly_N  \\\n",
      "0 -0.857087 -0.319866 -1.127595  ...      False            True   \n",
      "1  0.337102  6.206239 -0.628866  ...      False            True   \n",
      "2 -0.555750 -0.476871 -0.873141  ...      False           False   \n",
      "3  0.058086  0.865916  1.518722  ...      False            True   \n",
      "4 -0.053520 -0.011591  0.271900  ...      False           False   \n",
      "\n",
      "   Hepatomegaly_Y  Spiders_N  Spiders_Y  Edema_N  Edema_S  Edema_Y  \\\n",
      "0           False       True      False     True    False    False   \n",
      "1           False       True      False     True    False    False   \n",
      "2            True      False       True     True    False    False   \n",
      "3           False      False       True     True    False    False   \n",
      "4            True       True      False     True    False    False   \n",
      "\n",
      "   Drug_D-penicillamine  Drug_Placebo  \n",
      "0                  True         False  \n",
      "1                  True         False  \n",
      "2                 False          True  \n",
      "3                  True         False  \n",
      "4                 False          True  \n",
      "\n",
      "[5 rows x 27 columns]\n"
     ]
    }
   ],
   "source": [
    "# Select categorical columns for one-hot encoding\n",
    "categorical_columns = ['Sex', 'Ascites', 'Hepatomegaly', 'Spiders', 'Edema', 'Drug']\n",
    "\n",
    "# Apply one-hot encoding\n",
    "test_encoded = pd.get_dummies(test_data, columns=categorical_columns)\n",
    "\n",
    "# Display the encoded DataFrame\n",
    "print(test_encoded.head(5))"
   ]
  },
  {
   "cell_type": "markdown",
   "id": "df634e31-acc9-49dd-b850-59bedc73d4fe",
   "metadata": {
    "tags": []
   },
   "source": [
    "**Encoding training data**"
   ]
  },
  {
   "cell_type": "code",
   "execution_count": 10,
   "id": "a863cf54-5476-40de-8399-3b38eec69cf7",
   "metadata": {
    "tags": []
   },
   "outputs": [
    {
     "name": "stdout",
     "output_type": "stream",
     "text": [
      "   trainID    N_Days Status       Age  Bilirubin  Cholesterol   Albumin  \\\n",
      "0        1 -1.554713      D  1.720921  -0.455232    -1.023194 -0.988035   \n",
      "1        2 -1.439311      D  0.019242   0.621364    -0.590760 -0.211061   \n",
      "2        3 -0.805879     CL -0.064502   1.047940    -0.283871  0.919083   \n",
      "3        4 -1.013604      D  0.374316  -0.475545    -0.474514 -0.893857   \n",
      "4        5 -1.558987      D  0.865443  -0.069282    -0.516362 -0.729044   \n",
      "5        6  1.178190      C  1.214076  -0.597424    -0.739554  1.248708   \n",
      "6        7  1.868895      C -0.073006  -0.475545    -0.525662  0.165654   \n",
      "\n",
      "         Copper  Alk_Phos      SGOT  ...  Sex_M  Ascites_N  Ascites_Y  \\\n",
      "0 -3.286872e-01 -0.451841 -1.420221  ...   True      False       True   \n",
      "1  1.184735e+00 -0.149634  0.845308  ...  False       True      False   \n",
      "2  7.969651e-02 -0.654880 -0.132159  ...  False       True      False   \n",
      "3  5.551115e-17 -0.311210  0.760350  ...  False      False       True   \n",
      "4 -1.124841e-01 -0.578794  0.052372  ...  False       True      False   \n",
      "5 -1.085398e+00 -0.650178 -0.967116  ...  False       True      False   \n",
      "6 -2.566195e-01  0.013652 -0.060904  ...  False       True      False   \n",
      "\n",
      "   Hepatomegaly_N  Hepatomegaly_Y  Spiders_N  Spiders_Y  Edema_N  Edema_S  \\\n",
      "0           False            True       True      False    False    False   \n",
      "1           False            True      False       True    False     True   \n",
      "2           False            True       True      False    False     True   \n",
      "3           False            True      False       True     True    False   \n",
      "4           False            True      False       True     True    False   \n",
      "5            True           False       True      False     True    False   \n",
      "6           False            True       True      False     True    False   \n",
      "\n",
      "   Edema_Y  \n",
      "0     True  \n",
      "1    False  \n",
      "2    False  \n",
      "3    False  \n",
      "4    False  \n",
      "5    False  \n",
      "6    False  \n",
      "\n",
      "[7 rows x 27 columns]\n"
     ]
    }
   ],
   "source": [
    "# Select categorical columns for one-hot encoding\n",
    "categorical_columns = ['Drug', 'Sex', 'Ascites', 'Hepatomegaly', 'Spiders', 'Edema']\n",
    "\n",
    "# Apply one-hot encoding\n",
    "train_encoded = pd.get_dummies(train_data, columns=categorical_columns)\n",
    "\n",
    "# Display the encoded DataFrame\n",
    "print(train_encoded.head(7))"
   ]
  },
  {
   "cell_type": "markdown",
   "id": "91b91f75-0fe4-4455-a1a6-817dc26099e2",
   "metadata": {},
   "source": [
    "**Identify the class imbalance issue**"
   ]
  },
  {
   "cell_type": "code",
   "execution_count": 11,
   "id": "3b2c275d-5e39-41a9-8067-8150d90cc775",
   "metadata": {
    "tags": []
   },
   "outputs": [
    {
     "name": "stdout",
     "output_type": "stream",
     "text": [
      "Status\n",
      "C     119\n",
      "D      93\n",
      "CL     12\n",
      "Name: count, dtype: int64\n"
     ]
    }
   ],
   "source": [
    "# Show the label distribution\n",
    "label_distribution = train_data['Status'].value_counts()\n",
    "print(label_distribution)"
   ]
  },
  {
   "cell_type": "markdown",
   "id": "1b207fc6-6441-40c6-833e-e64915be211e",
   "metadata": {},
   "source": [
    "Based on the label distribution we can see the number of samples in each class are not equal with the CL label being significantly lower compared to the C and D class. We can say that the training set is not balanced as a result.\n",
    "\n",
    "This is generally expected in medical data where the study involves diseases and treatments.\n",
    "\n",
    "We can work around the imbalanced class distribution using SMOTE."
   ]
  },
  {
   "cell_type": "markdown",
   "id": "8d84bdc7-0dea-43cf-baf7-de8ecdf63d16",
   "metadata": {},
   "source": [
    "**Apply SMOTE to deal with imbalanced training set**"
   ]
  },
  {
   "cell_type": "code",
   "execution_count": 12,
   "id": "223b577e-219a-4c2b-8312-406a8bcc01e6",
   "metadata": {
    "tags": []
   },
   "outputs": [],
   "source": [
    "from imblearn.over_sampling import SMOTE\n",
    "\n",
    "# Separate features and target variable\n",
    "X = train_encoded.drop(columns=['trainID', 'N_Days', 'Status'])\n",
    "y = train_encoded['Status']\n",
    "\n",
    "# Apply SMOTE\n",
    "smote = SMOTE()\n",
    "X_train_resampled, y_train_resampled = smote.fit_resample(X, y)"
   ]
  },
  {
   "cell_type": "markdown",
   "id": "c1cdcc27-3afc-49f8-932f-ba71932d3934",
   "metadata": {
    "tags": []
   },
   "source": [
    "**Label distribution after re-sampling using SMOTE**"
   ]
  },
  {
   "cell_type": "code",
   "execution_count": 14,
   "id": "d0bcf2a0-c943-406f-b253-ea03dcbc455e",
   "metadata": {
    "tags": []
   },
   "outputs": [
    {
     "name": "stdout",
     "output_type": "stream",
     "text": [
      "Status\n",
      "D     119\n",
      "CL    119\n",
      "C     119\n",
      "Name: count, dtype: int64\n"
     ]
    }
   ],
   "source": [
    "# Show the label distribution\n",
    "label_distribution = y_train_resampled.value_counts()\n",
    "print(label_distribution)"
   ]
  },
  {
   "cell_type": "markdown",
   "id": "2f2cd0e2-1360-4ef8-a1d3-7d68919d2b6d",
   "metadata": {},
   "source": [
    "## Supervised machine learning models for predicting \"Status\".\n"
   ]
  },
  {
   "cell_type": "markdown",
   "id": "13d25753-7c28-464a-9832-a8432643b413",
   "metadata": {},
   "source": [
    "**Model 1: Support Vector Machine (SVM)**"
   ]
  },
  {
   "cell_type": "code",
   "execution_count": 15,
   "id": "abcb49e3-b2b8-438d-a419-df04dd70d3b8",
   "metadata": {
    "tags": []
   },
   "outputs": [],
   "source": [
    "from sklearn.model_selection import train_test_split, GridSearchCV\n",
    "from sklearn.metrics import classification_report, confusion_matrix, accuracy_score\n",
    "\n",
    "# Split the data into training and testing sets\n",
    "X_train, X_test, y_train, y_test = train_test_split(X_train_resampled, y_train_resampled, test_size=0.2, random_state=42)"
   ]
  },
  {
   "cell_type": "code",
   "execution_count": 16,
   "id": "c05d3708-7a0a-4edc-bed8-e3c1265fdf47",
   "metadata": {
    "tags": []
   },
   "outputs": [
    {
     "name": "stdout",
     "output_type": "stream",
     "text": [
      "Fitting 5 folds for each of 48 candidates, totalling 240 fits\n",
      "Best Model Performance:\n",
      "Best Hyperparameters: {'C': 1, 'gamma': 0.1, 'kernel': 'rbf'}\n",
      "Confusion Matrix:\n",
      " [[12  3  8]\n",
      " [ 1 18  0]\n",
      " [ 3  0 27]]\n",
      "\n",
      " Testing Accuracy: 0.7916666666666666\n",
      "\n",
      " Training Accuracy: 0.9368421052631579\n",
      "\n",
      "Classification Report:\n",
      "               precision    recall  f1-score   support\n",
      "\n",
      "           C       0.75      0.52      0.62        23\n",
      "          CL       0.86      0.95      0.90        19\n",
      "           D       0.77      0.90      0.83        30\n",
      "\n",
      "    accuracy                           0.79        72\n",
      "   macro avg       0.79      0.79      0.78        72\n",
      "weighted avg       0.79      0.79      0.78        72\n",
      "\n"
     ]
    }
   ],
   "source": [
    "from sklearn.svm import SVC\n",
    "\n",
    "# Define the hyperparameters grid for SVM\n",
    "svm_param_grid = {\n",
    "    'C': [0.1, 1, 10, 100],  # Regularization parameter\n",
    "    'kernel': ['linear', 'rbf', 'poly'],  # Kernel type\n",
    "    'gamma': [0.001, 0.01, 0.1, 1],  # Kernel coefficient\n",
    "}\n",
    "\n",
    "# Instantiate the GridSearchCV object\n",
    "grid_search = GridSearchCV(SVC(), svm_param_grid, cv=5, scoring='accuracy', verbose=1)\n",
    "\n",
    "# Fit the GridSearchCV object to the data\n",
    "grid_search.fit(X_train, y_train)\n",
    "\n",
    "# Get the best hyperparameters\n",
    "svm_best_params = grid_search.best_params_\n",
    "\n",
    "# Get the best model\n",
    "svm_best_model = grid_search.best_estimator_\n",
    "\n",
    "# Evaluate the best model\n",
    "svm_y_pred_best = svm_best_model.predict(X_test)\n",
    "\n",
    "# Calculate accuracy on testing data\n",
    "svm_test_accuracy = accuracy_score(y_test, svm_y_pred_best)\n",
    "\n",
    "# Calculate accuracy on training data\n",
    "svm_y_train_pred = svm_best_model.predict(X_train)\n",
    "svm_training_accuracy = accuracy_score(y_train, svm_y_train_pred)\n",
    "\n",
    "print(\"Best Model Performance:\")\n",
    "print(\"Best Hyperparameters:\", svm_best_params)\n",
    "print(\"Confusion Matrix:\\n\", confusion_matrix(y_test, svm_y_pred_best))\n",
    "print(\"\\n Testing Accuracy:\", svm_test_accuracy)\n",
    "print(\"\\n Training Accuracy:\", svm_training_accuracy)\n",
    "print(\"\\nClassification Report:\\n\", classification_report(y_test, svm_y_pred_best))"
   ]
  },
  {
   "cell_type": "markdown",
   "id": "426d8750-5d86-4a86-a229-1a9efeebf78d",
   "metadata": {
    "tags": []
   },
   "source": [
    "Based on the calculated performance metrics for the SVM model with RBF kernel, the accuracy of the model is 0.7916 suggesting that the model can correctly predict class labels 79.17% of the instances in the test set.\n",
    "\n",
    "Looking at the precision, recall and F1-score:\n",
    "\n",
    "For class C (Censored): Precision is 0.75, Recall is 0.52 and F1-Score is 0.62.\n",
    "\n",
    "For class CL (Censored due to liver transplantation): Precision is 0.86, Recall is 0.95 and F1-Score is 0.90.\n",
    "\n",
    "For class D (Death): Precision is 0.77, Recall is 0.90 and F1-Score is 0.83.\n",
    "\n",
    "Overall the model shows good performance, being able to best predict class 'CL' and struggles to predict class 'C' relative to the other classes in terms of its precision, recall and F1-score. This is further shown by the confusion matrix showing some instances of misclassification of class 'C' and class 'D'.  \n",
    "\n",
    "Looking at the training accuracy (93.68%) compared to the testing accuracy (79.17%) the decrease in accuracy suggests overfitting towards the training data. This may suggest that the model may not generalise well towards unseen data as the model may have learnt the noise and patterns that are specific to the training data. \n",
    "\n",
    "Overall based on the differences between the training and testing accuracy there is likelihood of the model being overfitted to some extent."
   ]
  },
  {
   "cell_type": "markdown",
   "id": "7acf2e77-748a-45e6-9612-94cb245e6ead",
   "metadata": {},
   "source": [
    "**Model 2: KNN**"
   ]
  },
  {
   "cell_type": "code",
   "execution_count": 17,
   "id": "ca5461c8-a2b0-4421-ba1f-cda748a8280a",
   "metadata": {
    "tags": []
   },
   "outputs": [],
   "source": [
    "from sklearn.neighbors import KNeighborsClassifier\n",
    "from sklearn.model_selection import train_test_split, GridSearchCV\n",
    "from sklearn.metrics import classification_report, confusion_matrix, accuracy_score\n",
    "\n",
    "# Split the data into training and testing sets\n",
    "X_train, X_test, y_train, y_test = train_test_split(X_train_resampled, y_train_resampled, test_size=0.2, random_state=42)"
   ]
  },
  {
   "cell_type": "code",
   "execution_count": 18,
   "id": "f6024c15-c0ec-4747-ac44-599ea53f4893",
   "metadata": {
    "tags": []
   },
   "outputs": [
    {
     "name": "stdout",
     "output_type": "stream",
     "text": [
      "Fitting 5 folds for each of 5 candidates, totalling 25 fits\n",
      "Best KNN Model Performance:\n",
      "Best n_neighbors: 5\n",
      "Confusion Matrix:\n",
      " [[15  6  2]\n",
      " [ 0 19  0]\n",
      " [ 4  7 19]]\n",
      "\n",
      " Testing Accuracy: 0.7361111111111112\n",
      "\n",
      " Training Accuracy: 0.8350877192982457\n",
      "\n",
      "Classification Report:\n",
      "               precision    recall  f1-score   support\n",
      "\n",
      "           C       0.79      0.65      0.71        23\n",
      "          CL       0.59      1.00      0.75        19\n",
      "           D       0.90      0.63      0.75        30\n",
      "\n",
      "    accuracy                           0.74        72\n",
      "   macro avg       0.76      0.76      0.73        72\n",
      "weighted avg       0.79      0.74      0.74        72\n",
      "\n"
     ]
    }
   ],
   "source": [
    "# Define the hyperparameters grid for KNN\n",
    "knn_param_grid = {\n",
    "    'n_neighbors': [1, 3, 5, 7, 9]  # Number of neighbors to consider\n",
    "}\n",
    "\n",
    "# Instantiate the GridSearchCV object\n",
    "knn_grid_search = GridSearchCV(KNeighborsClassifier(), knn_param_grid, cv=5, scoring='accuracy', verbose=1)\n",
    "\n",
    "# Fit the GridSearchCV object to the data\n",
    "knn_grid_search.fit(X_train, y_train)\n",
    "\n",
    "# Get the best hyperparameters\n",
    "best_n_neighbors = knn_grid_search.best_params_['n_neighbors']\n",
    "\n",
    "# Get the best model\n",
    "best_knn_model = knn_grid_search.best_estimator_\n",
    "\n",
    "# Evaluate the best model\n",
    "knn_y_pred_best = best_knn_model.predict(X_test)\n",
    "\n",
    "# Calculate accuracy on testing data\n",
    "knn_accuracy = accuracy_score(y_test, knn_y_pred_best)\n",
    "\n",
    "# Calculate accuracy on training data\n",
    "knn_y_train_pred = best_knn_model.predict(X_train)\n",
    "knn_training_accuracy = accuracy_score(y_train, knn_y_train_pred)\n",
    "\n",
    "print(\"Best KNN Model Performance:\")\n",
    "print(\"Best n_neighbors:\", best_n_neighbors)\n",
    "print(\"Confusion Matrix:\\n\", confusion_matrix(y_test, knn_y_pred_best))\n",
    "print(\"\\n Testing Accuracy:\", knn_accuracy)\n",
    "print(\"\\n Training Accuracy:\", knn_training_accuracy)\n",
    "print(\"\\nClassification Report:\\n\", classification_report(y_test, knn_y_pred_best))"
   ]
  },
  {
   "cell_type": "markdown",
   "id": "522f4299-161d-4bb1-85b5-c40233d0cc3a",
   "metadata": {},
   "source": [
    "Based on the calculated performance metrics for the knn model we can see that the overall accuracy of the model is 0.7361, meaning it can correctly predict the class labels approximately 73.61% of the samples in the test set.\n",
    "\n",
    "Looking at the precision, recall and F1-score:\n",
    "\n",
    "For class C (Censored): Precision is 0.79, Recall is 0.65 and F1-Score is 0.71.\n",
    "\n",
    "For class CL (Censored due to liver transplantation): Precision is 0.59, Recall is 1.00 and F1-Score is 0.75.\n",
    "\n",
    "For class D (Death): Precision is 0.90, Recall is 0.63 and F1-Score is 0.75.\n",
    "\n",
    "Overall the precision, recall and F1-scores for each class indicate that the model can perform well for all three classes fairly evenly. \n",
    "\n",
    "The training accuracy of 100% is very high, suggesting that the model perfectly fits the training data, as testing accuracy is 73.61% this reduction in accuracy indicates overfitting of the model. This suggests that the model learnt noise and patterns specific to the training data too well and has resulted in poorer generalisation to new and unseen data. \n",
    "This is possibly due to the optimal `n_neighbors` equal to 1, we could try to address this issue by increasing the value of `n_neighbors` and reduce model complexity."
   ]
  },
  {
   "cell_type": "markdown",
   "id": "8f80b3d7-cea4-47bd-8d32-c1ed91012700",
   "metadata": {
    "tags": []
   },
   "source": [
    "**Model 3: Random Forest**"
   ]
  },
  {
   "cell_type": "code",
   "execution_count": 19,
   "id": "ec5dec8c-01d8-409e-912c-95d99d71705d",
   "metadata": {
    "tags": []
   },
   "outputs": [
    {
     "name": "stdout",
     "output_type": "stream",
     "text": [
      "Fitting 5 folds for each of 324 candidates, totalling 1620 fits\n"
     ]
    },
    {
     "name": "stderr",
     "output_type": "stream",
     "text": [
      "D:\\Coding\\Anaconda\\Lib\\site-packages\\sklearn\\ensemble\\_forest.py:424: FutureWarning: `max_features='auto'` has been deprecated in 1.1 and will be removed in 1.3. To keep the past behaviour, explicitly set `max_features='sqrt'` or remove this parameter as it is also the default value for RandomForestClassifiers and ExtraTreesClassifiers.\n",
      "  warn(\n"
     ]
    },
    {
     "name": "stdout",
     "output_type": "stream",
     "text": [
      "Best Random Forest Model Performance:\n",
      "Best Hyperparameters: {'max_depth': 20, 'max_features': 'auto', 'min_samples_leaf': 1, 'min_samples_split': 2, 'n_estimators': 100}\n",
      "Confusion Matrix:\n",
      " [[16  0  7]\n",
      " [ 0 19  0]\n",
      " [ 5  0 25]]\n",
      "\n",
      "Testing Accuracy: 0.8333333333333334\n",
      "\n",
      "Training Accuracy: 1.0\n",
      "\n",
      "Classification Report:\n",
      "               precision    recall  f1-score   support\n",
      "\n",
      "           C       0.76      0.70      0.73        23\n",
      "          CL       1.00      1.00      1.00        19\n",
      "           D       0.78      0.83      0.81        30\n",
      "\n",
      "    accuracy                           0.83        72\n",
      "   macro avg       0.85      0.84      0.84        72\n",
      "weighted avg       0.83      0.83      0.83        72\n",
      "\n"
     ]
    }
   ],
   "source": [
    "from sklearn.ensemble import RandomForestClassifier\n",
    "\n",
    "# Define the hyperparameters grid for Random Forest\n",
    "param_grid = {\n",
    "    'n_estimators': [100, 200, 300],  # Number of trees in the forest\n",
    "    'max_features': ['auto', 'sqrt', 'log2'],  # Number of features to consider at every split\n",
    "    'max_depth': [10, 20, 30, None],  # Maximum number of levels in tree\n",
    "    'min_samples_split': [2, 5, 10],  # Minimum number of samples required to split a node\n",
    "    'min_samples_leaf': [1, 2, 4]  # Minimum number of samples required at each leaf node\n",
    "}\n",
    "\n",
    "# Instantiate the GridSearchCV object\n",
    "grid_search = GridSearchCV(estimator=RandomForestClassifier(), param_grid=param_grid, cv=5, scoring='accuracy', verbose=1, n_jobs=-1)\n",
    "\n",
    "# Fit the GridSearchCV object to the data\n",
    "grid_search.fit(X_train, y_train)\n",
    "\n",
    "# Get the best hyperparameters\n",
    "rf_best_params = grid_search.best_params_\n",
    "\n",
    "# Get the best model\n",
    "rf_best_model = grid_search.best_estimator_\n",
    "\n",
    "# Evaluate the best model on the testing data\n",
    "rf_y_pred_best = rf_best_model.predict(X_test)\n",
    "\n",
    "# Calculate accuracy\n",
    "rf_testing_accuracy = accuracy_score(y_test, rf_y_pred_best)\n",
    "rf_training_accuracy = accuracy_score(y_train, rf_best_model.predict(X_train))\n",
    "\n",
    "# Print the performance metrics\n",
    "print(\"Best Random Forest Model Performance:\")\n",
    "print(\"Best Hyperparameters:\", rf_best_params)\n",
    "print(\"Confusion Matrix:\\n\", confusion_matrix(y_test, rf_y_pred_best))\n",
    "print(\"\\nTesting Accuracy:\", rf_testing_accuracy)\n",
    "print(\"\\nTraining Accuracy:\", rf_training_accuracy)\n",
    "print(\"\\nClassification Report:\\n\", classification_report(y_test, rf_y_pred_best))"
   ]
  },
  {
   "cell_type": "markdown",
   "id": "b0827ccd-0676-4615-a12c-e70074a6456a",
   "metadata": {},
   "source": [
    "Based on the calculated performance metrics for the random forest model we can see that the overall accuracy of the model is 0.8333, meaning it can correctly predict the class labels approximately 83.33% of the samples in the test set.\n",
    "\n",
    "Looking at the precision, recall and F1-score:\n",
    "\n",
    "For class C (Censored): Precision is 0.76, Recall is 0.70 and F1-Score is 0.73.\n",
    "\n",
    "For class CL (Censored due to liver transplantation): Precision is 1.00, Recall is 1.00 and F1-Score is 1.00.\n",
    "\n",
    "For class D (Death): Precision is 0.78, Recall is 0.83 and F1-Score is 0.81.\n",
    "\n",
    "Overall the model shows good performance, being able to best predict class 'CL' and struggles to predict class 'C' relative to the other classes in terms of its precision, recall and F1-score. \n",
    "\n",
    "A training accuracy of 100% again suggests that the model has likely learnt the noise and patterns of the training data. As the testing accuracy is lower this further suggests that the model is overfitting and has not generalised well to new and unseen data.\n",
    "\n",
    "Overall this model performs the best out of the three with the highest accuracy and smallest decrease in accuracy when compared to the training accuracy suggesting it is the least overfitted model out of the three."
   ]
  },
  {
   "cell_type": "markdown",
   "id": "d099b024-1955-4dad-b94d-14040404ed47",
   "metadata": {},
   "source": [
    "**Model 4: XGBoost**"
   ]
  },
  {
   "cell_type": "markdown",
   "id": "f009c126-f132-4397-9a1f-dca9e7f85e24",
   "metadata": {},
   "source": [
    "XGBoost requires the target variable to be encoded as integers. To resolve this, we can convert the categorical target values to numerical labels.\n",
    "\n",
    "**Determine optimal hyperparameters**"
   ]
  },
  {
   "cell_type": "code",
   "execution_count": 20,
   "id": "cb71870b-529e-454d-84ce-cc9fc643bb10",
   "metadata": {
    "tags": []
   },
   "outputs": [
    {
     "name": "stdout",
     "output_type": "stream",
     "text": [
      "Fitting 3 folds for each of 324 candidates, totalling 972 fits\n",
      "Best parameters: {'colsample_bytree': 0.8, 'learning_rate': 0.1, 'max_depth': 5, 'min_child_weight': 3, 'n_estimators': 100, 'subsample': 1.0}\n"
     ]
    }
   ],
   "source": [
    "import xgboost as xgb\n",
    "from sklearn.model_selection import train_test_split, GridSearchCV\n",
    "from sklearn.metrics import classification_report, confusion_matrix, accuracy_score\n",
    "from sklearn.preprocessing import LabelEncoder\n",
    "import pandas as pd\n",
    "\n",
    "# Assuming X_train_resampled and y_train_resampled are already defined\n",
    "# Initialize the label encoder\n",
    "label_encoder = LabelEncoder()\n",
    "\n",
    "# Fit and transform the target variable\n",
    "y_train_resampled_encoded = label_encoder.fit_transform(y_train_resampled)\n",
    "y_test_encoded = label_encoder.transform(y_test)\n",
    "\n",
    "X_train, X_test, y_train, y_test = train_test_split(X_train_resampled, y_train_resampled_encoded, test_size=0.2, random_state=42)\n",
    "\n",
    "param_grid = {\n",
    "    'learning_rate': [0.01, 0.1, 0.2],\n",
    "    'max_depth': [3, 5, 7],\n",
    "    'min_child_weight': [1, 3, 5],\n",
    "    'subsample': [0.8, 1.0],\n",
    "    'colsample_bytree': [0.8, 1.0],\n",
    "    'n_estimators': [100, 200, 300]\n",
    "}\n",
    "\n",
    "xgb_clf = xgb.XGBClassifier(use_label_encoder=False, eval_metric='mlogloss')\n",
    "\n",
    "grid_search = GridSearchCV(estimator=xgb_clf, param_grid=param_grid, cv=3, n_jobs=-1, verbose=2, scoring='accuracy')\n",
    "\n",
    "grid_search.fit(X_train, y_train)\n",
    "\n",
    "best_params = grid_search.best_params_\n",
    "best_model = grid_search.best_estimator_\n",
    "print(f\"Best parameters: {best_params}\")"
   ]
  },
  {
   "cell_type": "markdown",
   "id": "c5c4ace6-376c-44b3-b6e2-5b621b922394",
   "metadata": {
    "tags": []
   },
   "source": [
    "**Build XGBoost model using best hyperparameters**"
   ]
  },
  {
   "cell_type": "code",
   "execution_count": 26,
   "id": "085672c6-e62d-4a3f-8a95-38feb9dc3d15",
   "metadata": {
    "tags": []
   },
   "outputs": [
    {
     "name": "stdout",
     "output_type": "stream",
     "text": [
      "Best XGBoost Model Performance:\n",
      "Confusion Matrix:\n",
      " [[15  0  8]\n",
      " [ 0 19  0]\n",
      " [ 3  1 26]]\n",
      "\n",
      "Testing Accuracy: 0.8333333333333334\n",
      "\n",
      "Training Accuracy: 1.0\n",
      "\n",
      "Classification Report:\n",
      "               precision    recall  f1-score   support\n",
      "\n",
      "           0       0.83      0.65      0.73        23\n",
      "           1       0.95      1.00      0.97        19\n",
      "           2       0.76      0.87      0.81        30\n",
      "\n",
      "    accuracy                           0.83        72\n",
      "   macro avg       0.85      0.84      0.84        72\n",
      "weighted avg       0.84      0.83      0.83        72\n",
      "\n"
     ]
    }
   ],
   "source": [
    "# Initialize the XGBoost model with the best hyperparameters\n",
    "xgb_clf = xgb.XGBClassifier(\n",
    "    colsample_bytree=0.8,\n",
    "    learning_rate=0.1,\n",
    "    max_depth=5,\n",
    "    min_child_weight=3,\n",
    "    n_estimators=100,\n",
    "    subsample=1.0,\n",
    "    use_label_encoder=False,\n",
    "    eval_metric='mlogloss'\n",
    ")\n",
    "\n",
    "# Fit the model on the training data\n",
    "xgb_clf.fit(X_train, y_train)\n",
    "\n",
    "# Predictions on training data\n",
    "xgb_y_train_pred = xgb_clf.predict(X_train)\n",
    "# Predictions on test data\n",
    "xgb_y_test_pred = xgb_clf.predict(X_test)\n",
    "\n",
    "# Calculate accuracies\n",
    "xgb_train_accuracy = accuracy_score(y_train, y_train_pred)\n",
    "xgb_test_accuracy = accuracy_score(y_test, y_test_pred)\n",
    "\n",
    "# Evaluate the model\n",
    "print(\"Best XGBoost Model Performance:\")\n",
    "print(\"Confusion Matrix:\\n\", confusion_matrix(y_test, xgb_y_test_pred))\n",
    "print(\"\\nTesting Accuracy:\", xgb_test_accuracy)\n",
    "print(\"\\nTraining Accuracy:\", xgb_train_accuracy)\n",
    "print(\"\\nClassification Report:\\n\", classification_report(y_test, xgb_y_test_pred))"
   ]
  },
  {
   "cell_type": "markdown",
   "id": "07956af1-3c94-4780-8751-6e97f0bf4864",
   "metadata": {},
   "source": [
    "Based on the performance metrics this model appears to have performed equally well to the Random Forest Model. Again this model has a similar issue where training accuracy is 100% suggesting that the model has likely learnt the noise and patterns of the training data. As the testing accuracy is lower this further suggests that the model is overfitting and has not generalised well to new and unseen data."
   ]
  },
  {
   "cell_type": "markdown",
   "id": "56590baa-a581-4f52-990c-e15a1dba4add",
   "metadata": {},
   "source": [
    "### Results"
   ]
  },
  {
   "cell_type": "markdown",
   "id": "aee0997c-f023-465e-912b-7db76ee9c717",
   "metadata": {},
   "source": [
    "SVM, KNN and Decision tree are commonly used algorithms in classification tasks and are suitable for some of the characteristics of this dataset.\n",
    "\n",
    "SVM with RBF Kernel:\n",
    "SVM works well with high-dimensional feature spaces making it useful in this situation where there are many features. Furthermore SVM can handle non-linear decision boundaries using the kernel trick particularly by applying different kernel functions to see which could perform better. As SVM aims to maximise the margin between classes the goal was to  try and reduce overfitting. Furthermore the use of regularisation parameters can aim to balance the trade-off between a low training error and minimising model complexity. \n",
    "\n",
    "K-Nearest Neighbours (KNN):\n",
    "KNN was used to attempt to capture non-linear relationships between the features and the target variable. Furthermore as KNN can classify using both numerical and categorical features it was also a good choice. As KNN can handle multi-class classification problems, KNN's ability to handle multiple classes also made this an appropriate choice. \n",
    "KNN is generally robust to irrelevant features, as there were many and different features in the dataset, KNN was selected to see if it could identify a relationship based on the distances between the datapoints. \n",
    "\n",
    "Random Forest:\n",
    "As Random Forest is an ensemble learning method it aims to utilise the benefits of building multiple decision trees and combining their results to make a prediction. \n",
    "This aims to reduce overfitting compared to using an individual decision tree, as a single tree may easily overfit, averaging multiple trees can smooth out the predictions to generalise better towards unseen data. Random Forest inherently provides feature importance which can identify the most influential features and prioritise them during the training process, by focusing on the most important features we can reduce the impact of overfitting by focusing on these features and reduce the impact of non-influential features and noise. \n",
    "Random Forest is versatile as it can handle both classification and regression tasks, in this case a multi-class classification problem is handled fairly well by this model design. \n",
    "\n",
    "\n",
    "XGBoost (Extreme Gradient Boosting):\n",
    "Seeing the drastic improvement in model prediction accuracy using ensemble training methods, I wanted to utilise an advanced ensemble training method to achieve higher performance. XGBoost uses the boosting ensemble technique, boosting is a sequential ensemble method where models are trained one after another, and each new model aims to correct the errors made by the previous models. In gradient boosting, each new model is trained to reduce the residual errors of the previous models, effectively improving the overall predictive power of the ensemble. XGBoost overall has more hyperparameters which allows for greater tuning when compared to Random Forest, the decision behind using XGBoost was the idea that greater tuning could result in higher performance."
   ]
  },
  {
   "cell_type": "markdown",
   "id": "4cbb7bd6-ccda-422c-a44d-69f6fd6cd492",
   "metadata": {},
   "source": [
    "**Rationale behind hyper-parameter tuning**"
   ]
  },
  {
   "cell_type": "markdown",
   "id": "0387c9cb-c3e7-47cd-9a75-7490e8bbc5dc",
   "metadata": {},
   "source": [
    "**SVM with Linear Kernel:**\n",
    "\n",
    "Hyperparameters:\n",
    "\n",
    "*Kernel:* The kernel function determines the shape of the decision boundary by transforming the input data into higher-dimensional space. Different kernel functions aim to capture different types of relationships within the data. In this case an RBF kernel was found to be most optimal, mapping the input data into an infinite-dimensional space. \n",
    "\n",
    "*C:* Is the regularisation parameter which controls the trade-off bewteen achieving a low error on the training data and minimising the model complexity to avoid overfitting. In this case a C of 1 was found to be most optimal (default value). \n",
    "\n",
    "*Gamma*: Is th kernel coefficient, this defines how much influence the training example reaches. In this game it was found that a gamma of 0.1 was most optimal. Low gamma makes the decision boundary more smooth and generalised aiming to reduce the risks of overfitting.\n",
    "\n",
    "**KNN:**\n",
    "\n",
    "Hyperparameters:\n",
    "\n",
    "*n-neighbours:* n-neighbours determined the nearest neighbours to use for the voting process. In this case Grid Search Cross-Validation was performed to find the best performance using different values of n-neighbours. Through this it was found that n=1 was the most optimal hyperparameter. \n",
    "\n",
    "**Random Forest:**\n",
    "\n",
    "Hyperparameters: \n",
    "\n",
    "*n-estimators:* Determines the number of trees in the forest, increasing this generally leads to better performance and aims to reduce overfitting by averaging the predictions from multiple trees. The trade-off however is higher computation cost. In this case n-estimators of 100 was determined to be most optimal.\n",
    "\n",
    "*max-features:* Determines the number of features to consider when looking for the best split. In this case auto which is equal to square root of the total number of features was used to be the maximum number of features to consider for the split. This hyperparameter aims to control the number of features randomly chosen at each split aiming to reduce correlation bewteen trees and promote diversity as a result.\n",
    "\n",
    "*max-depth:* Determines the maximum depth of each tree in the forest. In this case 20 was determined to be most optimal. This aims to find a balance of a deep tree (overly complex and overfitting) versus a shallow tree (underfitting)\n",
    "\n",
    "*min_samples_split:* Determines the minimum number of samples required to split an internal node. In this case a value of 2 was used. Overall this hyperparameter aims to control the growth of the tree by preventing splits that result in small samples in a child node. Larger values overall may prevent overfitting by mmay lead to biased models. \n",
    "\n",
    "*min_samples_leaf:* Determines the minimum number of samples required to be at a leaf node. In this case a value of 1 was used. This hyperparameter aims to prevent trees from growing too deep and aims to capture general patterns in the data. Using high values may prevent overfitting by may lead to biased models.\n",
    "\n",
    "\n",
    "**XGBoost (Extreme Gradient Boosting):**\n",
    "\n",
    "Hyperparameters: \n",
    "\n",
    "*learning_rate*: Controls the step size at each boosting step. Lower values can improve the model’s performance by reducing the risk of overfitting, but the training process will be slower. Higher values can speed up training but might lead to overfitting. In this case the most optimal learning rate was found to be 0.1.\n",
    "\n",
    "*colsample_bytree*: Determines the fraction of features used for each tree. In this case a value of 0.8 was found to be most optimal.\n",
    "\n",
    "*max_depth*:  Maximum depth of a tree. Higher values increase model complexity. In this case the most optimal depth was found to be 5.\n",
    "\n",
    "*min_child_weight*: Specifies the minimum sum of the weights of all observations required in a child node. In this case a value of 3 was found to be most optimal.\n",
    "\n",
    "*n_estimators*: Determines the number of boosting rounds or trees to be added to the model. Increasing the number of estimators can improve model performance, but after a certain point, it may lead to overfitting. It also increases training time. In this case the most optimal number of boosting rounds/trees was found to be 100.\n",
    "\n",
    "*sub-sample*: Determines the proportion of the training data used for each boosting round. Values less than 1.0 help prevent overfitting by adding randomness to the training process. Common values range from 0.5 to 1.0. In this case a sub-sample of 1.0 was found to be most optimal.\n",
    "\n"
   ]
  },
  {
   "cell_type": "markdown",
   "id": "92da366d-1b69-4ba6-80c9-be118ffad430",
   "metadata": {},
   "source": [
    "### Handling label imbalance issues "
   ]
  },
  {
   "cell_type": "markdown",
   "id": "9aab7d8e-c6a4-449f-8e18-13529d934e26",
   "metadata": {},
   "source": [
    "**Resampling techniques:**\n",
    "\n",
    "Undersampling: We could consider removing samples from the majority class to balance the class distribution to reduce the dominance of the majority clas but this could possible result in loss of information.\n",
    "\n",
    "Oversampling: We could duplicate or generate synthetic samples of the minority class to match the size of the majority class, this may increase the risks of overfitting which is already a prominent problem.\n",
    "\n",
    "**Algorithmic techniques:**\n",
    "\n",
    "Class Weighting: We could assign higher weights to samples from the minority class during model training. A balanced weighting was attempted in SVM without much success.\n",
    "\n",
    "**Evaluation metrics:**\n",
    "\n",
    "Metrics that are robust to class imbalance such as Area Under the ROC curve could be attempted. \n",
    "\n",
    "Consider stratified cross-validation to ensure the same class distribution is maintained compared to the original dataset. \n",
    "\n",
    "**Other:**\n",
    "\n",
    "Collect more data, particularly from the minor class to improve the models ability to learn from all classes.\n",
    "\n",
    "Add additional features which may help to distinguish between different classes more effectively. When combined with domain expertise it may be possible to identify and obtain more useful features.\n",
    "\n",
    "Consider dimensionality reduction to extract information from high-dimensional data to reduce the impact of noise, this however runs the risk of information loss, particularly when information about the minority class is already sparse.\n",
    "\n",
    "In this case, an over sampling technique called SMOTE (Synthetic Minority Over-sampling Technique) was used as it generates synthetic samples of the minority class. SMOTE identifies the minority class based on the class distribution of the dataset then randomly selects a sample from the minority data set and finds its k-nearest neighbours in the feature space. It then generates synthetic samples by interpolating between the selected sample and its nearest neighbours then adds these synthetic samples to the minority class dataset. By doing this SMOTE aims to make the class distribution more balanced and help improve the performance of the machine learning model. However a potential drawback is that by applying a technique like SMOTE, the new synthetic samples may introduce noise or lead to overfitting of data which could have potentially been the case based on these models."
   ]
  },
  {
   "cell_type": "markdown",
   "id": "abe53734-eff1-4f89-8eea-c7e87903be0a",
   "metadata": {},
   "source": [
    "**Model recommendation**"
   ]
  },
  {
   "cell_type": "markdown",
   "id": "f371fc4b-dcb2-40bb-ac06-df301f0bb714",
   "metadata": {},
   "source": [
    "Overall, despite all three models having similar and good performance in predicting the target variable, based on the reported results the random forest and XGBoost model had the highest performance of the four. Given a Random Forest is less complex than an XGBoost, following the concept of Occam's razor, the Random Forest model would be the model recommendation.\n",
    "\n",
    "Albeit Random Forest being an ensemble model, while not as easily interpretable as a single decision tree, it still provides a level of interpretability that is better compared to a complex model like SVM. \n",
    "\n",
    "Furthermore as Random Forest inherently contains techniques like feature importance and is an ensemble training method it is also the model of choice as it is able to draw more insight from the training data as a result. \n",
    "\n",
    "Furthermore by utilising the feature importance from Random Forest we an draw out draw out the most important features used to predict the target variable. By knowing which features have more influence in the decision making process, in a real-life scenario we would be able to target these particular features when trying to assess and manage Cirrhosis in patients. \n",
    "\n",
    "For example, knowing that features like Bilirubin and Prothrombin are one of the most important features we could be able to screen and look for individuals with levels of these features that would put them at higher risk of developing Cirrhosis to begin monitoring or early intervention."
   ]
  },
  {
   "cell_type": "markdown",
   "id": "c801a957-cf41-4cbc-a9e4-186cc56ab27d",
   "metadata": {},
   "source": [
    "## Perform a prediction on the pre-processed test set with the best model \n"
   ]
  },
  {
   "cell_type": "markdown",
   "id": "3132a21c-e1d0-412b-bc96-aaab6ee9ba8b",
   "metadata": {},
   "source": [
    "The best model obtained from testing was the Random Forest model as it had the highest performance metrics out of the three."
   ]
  },
  {
   "cell_type": "code",
   "execution_count": 20,
   "id": "0c843ea4-5d13-4652-abcc-e18c756e1845",
   "metadata": {
    "tags": []
   },
   "outputs": [
    {
     "name": "stdout",
     "output_type": "stream",
     "text": [
      "    testID Status\n",
      "0        1      C\n",
      "1        2      D\n",
      "2        3      C\n",
      "3        4      D\n",
      "4        5     CL\n",
      "..     ...    ...\n",
      "83      84      C\n",
      "84      85      C\n",
      "85      86      C\n",
      "86      87      C\n",
      "87      88      D\n",
      "\n",
      "[88 rows x 2 columns]\n"
     ]
    }
   ],
   "source": [
    "# Obtain just clinical features from testing data\n",
    "testing_clinical_features = test_encoded.drop(columns=['testID', 'N_Days', 'Status'])\n",
    "\n",
    "# Get the column order from training data\n",
    "training_columns = X_train.columns\n",
    "\n",
    "# Reorder the columns in testing data to match the order in training data\n",
    "testing_clinical_features = testing_clinical_features[training_columns]\n",
    "\n",
    "# Predict 'Status' using the trained model\n",
    "rf_predicted_status = rf_best_model.predict(testing_clinical_features)\n",
    "\n",
    "# Convert 'rf_predicted_status' to a DataFrame\n",
    "predicted_df = pd.DataFrame({'Status': rf_predicted_status})\n",
    "\n",
    "# Get the 'testID' column\n",
    "testID_column = test_encoded['testID'].reset_index(drop=True)  # Reset index to match 'y_pred_dt'\n",
    "\n",
    "# Concatenate the two DataFrames horizontally\n",
    "best_performing_model = pd.concat([testID_column, predicted_df], axis=1)\n",
    "\n",
    "# Print the resulting DataFrame\n",
    "print(best_performing_model)\n",
    "\n",
    "#Save to a csv file\n",
    "best_performing_model.to_csv('model_prediction_kouch.csv', index=False)"
   ]
  },
  {
   "cell_type": "markdown",
   "id": "0332ca5a-d27e-4e2d-ade2-82ae82620d8d",
   "metadata": {},
   "source": [
    "## Exploring and analysing the importance of features for predicting \"Status\" "
   ]
  },
  {
   "cell_type": "markdown",
   "id": "f306fb4c-583f-4b12-902e-e7eea64065c3",
   "metadata": {},
   "source": [
    "### Using Feature Importance"
   ]
  },
  {
   "cell_type": "markdown",
   "id": "20b225df-79e8-450f-a0fa-ab7990fc4da2",
   "metadata": {
    "tags": []
   },
   "source": [
    "Feature importance in decision trees is a technique used to determine the significance of each feature in predicting the target variable. \n",
    "This aids in understanding which features have the most influence on the decision-making process of the model.\n",
    "\n",
    "The feature importance is calculated by how much each feature is able to contribute to decreasing the impurity (ie, the Gini index or Entropy) in the decision tree nodes. \n",
    "\n",
    "In general, the higher the importance score the more influential the feature is in making classification decisions. \n",
    "\n",
    "From a statistical perspective, we can calculate the mean importance score and standard deviations of feature importance across all the decision trees in the Random Forest Model. \n",
    "\n",
    "Features that have the higher mean importance score and the lower standard deviations are considered to be more robust and influential in predicting the target variable. \n",
    "\n",
    "In this case we can obtain the importance scores from our random forest model and calculate the mean and standard deviations.\n",
    "\n",
    "We can then plot this to visualise this better and see which features are ranked from most to least importance.\n"
   ]
  },
  {
   "cell_type": "code",
   "execution_count": 21,
   "id": "c3cab49f-260f-466d-affb-d6911a29ae09",
   "metadata": {
    "tags": []
   },
   "outputs": [
    {
     "name": "stdout",
     "output_type": "stream",
     "text": [
      "Feature: Age, Mean Importance Score: 0.08074808740205988, Standard Deviation: 0.05276574423987461\n",
      "Feature: Bilirubin, Mean Importance Score: 0.14958219521882515, Standard Deviation: 0.09616104796399609\n",
      "Feature: Cholesterol, Mean Importance Score: 0.06364650157535127, Standard Deviation: 0.041555585752688855\n",
      "Feature: Albumin, Mean Importance Score: 0.06122443232600916, Standard Deviation: 0.03903814312474062\n",
      "Feature: Copper, Mean Importance Score: 0.08911027093880079, Standard Deviation: 0.054798304006902124\n",
      "Feature: Alk_Phos, Mean Importance Score: 0.072228041514325, Standard Deviation: 0.04600590133349868\n",
      "Feature: SGOT, Mean Importance Score: 0.06112365980036445, Standard Deviation: 0.040256471799985184\n",
      "Feature: Tryglicerides, Mean Importance Score: 0.04671252187366898, Standard Deviation: 0.03227851832549912\n",
      "Feature: Platelets, Mean Importance Score: 0.06377299166158827, Standard Deviation: 0.03845843646241789\n",
      "Feature: Prothrombin, Mean Importance Score: 0.12386565389638929, Standard Deviation: 0.06854746094552193\n",
      "Feature: Stage, Mean Importance Score: 0.01691362527818398, Standard Deviation: 0.014864559810629386\n",
      "Feature: Drug_D-penicillamine, Mean Importance Score: 0.016160922479126913, Standard Deviation: 0.021249447396520748\n",
      "Feature: Drug_Placebo, Mean Importance Score: 0.026619626626395165, Standard Deviation: 0.030416754571929043\n",
      "Feature: Sex_F, Mean Importance Score: 0.009709766139586247, Standard Deviation: 0.01320519343308121\n",
      "Feature: Sex_M, Mean Importance Score: 0.012206029421754255, Standard Deviation: 0.013909259258100628\n",
      "Feature: Ascites_N, Mean Importance Score: 0.005231643215631029, Standard Deviation: 0.010694341753240837\n",
      "Feature: Ascites_Y, Mean Importance Score: 0.007193929039426889, Standard Deviation: 0.016108271180703126\n",
      "Feature: Hepatomegaly_N, Mean Importance Score: 0.011017465721186474, Standard Deviation: 0.015519067308383133\n",
      "Feature: Hepatomegaly_Y, Mean Importance Score: 0.03842151042876078, Standard Deviation: 0.0408106214238371\n",
      "Feature: Spiders_N, Mean Importance Score: 0.01191551292482422, Standard Deviation: 0.016472126328899522\n",
      "Feature: Spiders_Y, Mean Importance Score: 0.007228045828968161, Standard Deviation: 0.00897518276023545\n",
      "Feature: Edema_N, Mean Importance Score: 0.008539226091239497, Standard Deviation: 0.017063472713649545\n",
      "Feature: Edema_S, Mean Importance Score: 0.009358235347052437, Standard Deviation: 0.013872261577634708\n",
      "Feature: Edema_Y, Mean Importance Score: 0.007470105250481703, Standard Deviation: 0.01596223130830312\n"
     ]
    }
   ],
   "source": [
    "# Get feature importance scores from all trees\n",
    "all_importance_scores = []\n",
    "for tree in rf_best_model.estimators_:\n",
    "    all_importance_scores.append(tree.feature_importances_)\n",
    "\n",
    "# Calculate mean importance score and standard deviation\n",
    "mean_importance_scores = np.mean(all_importance_scores, axis=0)\n",
    "std_importance_scores = np.std(all_importance_scores, axis=0)\n",
    "\n",
    "# Print mean importance scores and standard deviations\n",
    "for feature, mean_score, std_score in zip(X_train.columns, mean_importance_scores, std_importance_scores):\n",
    "    print(f\"Feature: {feature}, Mean Importance Score: {mean_score}, Standard Deviation: {std_score}\")"
   ]
  },
  {
   "cell_type": "code",
   "execution_count": 22,
   "id": "09aa12ef-57b0-42cf-8b70-11f7735d7d24",
   "metadata": {
    "tags": []
   },
   "outputs": [
    {
     "data": {
      "image/png": "[encoded data removed]",
      "text/plain": [
       "<Figure size 1000x600 with 1 Axes>"
      ]
     },
     "metadata": {},
     "output_type": "display_data"
    }
   ],
   "source": [
    "# Sort features and mean importance scores in descending order\n",
    "sorted_indices = np.argsort(mean_importance_scores)[::-1]\n",
    "sorted_features = np.array(X_train.columns)[sorted_indices]\n",
    "sorted_mean_importance_scores = mean_importance_scores[sorted_indices]\n",
    "sorted_std_importance_scores = std_importance_scores[sorted_indices]\n",
    "\n",
    "# Create figure and axis objects\n",
    "fig, ax = plt.subplots(figsize=(10, 6))\n",
    "\n",
    "# Plot mean importance scores\n",
    "ax.bar(sorted_features, sorted_mean_importance_scores, yerr=sorted_std_importance_scores, capsize=5)\n",
    "\n",
    "# Set labels and title\n",
    "ax.set_xlabel('Features')\n",
    "ax.set_ylabel('Mean Importance Score')\n",
    "ax.set_title('Mean Importance Score and Standard Deviation across Features (Sorted)')\n",
    "\n",
    "# Rotate x-axis labels for better readability\n",
    "plt.xticks(rotation=45, ha='right')\n",
    "\n",
    "# Show plot\n",
    "plt.tight_layout()\n",
    "plt.show()"
   ]
  },
  {
   "cell_type": "markdown",
   "id": "9ecf91c4-8132-4609-9e52-6e48fa40b41e",
   "metadata": {},
   "source": [
    "Based on the plot we can see that the most important features in the Random Forest model is Bilirubin followed by Prothrombin and Copper. \n",
    "\n",
    "While the least important features are Spiders and Ascites. \n"
   ]
  },
  {
   "cell_type": "markdown",
   "id": "f2b58e84-fc07-4022-8cfd-b37d296f91ec",
   "metadata": {},
   "source": [
    "## Using Permutation Importance"
   ]
  },
  {
   "cell_type": "markdown",
   "id": "fd4a68f9-0b9c-45d3-9ddc-90ce7fe82085",
   "metadata": {},
   "source": [
    "Permutation importance is a technique used to measure the importance of the features in a model. It evaluates the impact of each feature on the model's performance by measuring how much the model's performance deteriorates when the values of that feature are randomly shuffled.\n",
    "\n",
    "Permutation importance randomly permutates the values of a single feature while keeping other features unchanged and it assesses the changes in the models performance. \n",
    "By observing the changes in the performance metrics it can infer the importance of that feature.\n",
    "\n",
    "In general features that cause the largest drop in performance when permuted are considered the most important.\n",
    "\n",
    "We can then plot this to visualise this better and see which features contributes the most towards the model's performance.\n"
   ]
  },
  {
   "cell_type": "code",
   "execution_count": 23,
   "id": "9766234a-1562-4457-b89c-3a48f7c7b696",
   "metadata": {
    "tags": []
   },
   "outputs": [
    {
     "name": "stderr",
     "output_type": "stream",
     "text": [
      "D:\\Coding\\Anaconda\\Lib\\site-packages\\sklearn\\ensemble\\_forest.py:424: FutureWarning: `max_features='auto'` has been deprecated in 1.1 and will be removed in 1.3. To keep the past behaviour, explicitly set `max_features='sqrt'` or remove this parameter as it is also the default value for RandomForestClassifiers and ExtraTreesClassifiers.\n",
      "  warn(\n"
     ]
    },
    {
     "data": {
      "image/png": "[encoded data removed]",
      "text/plain": [
       "<Figure size 1000x600 with 1 Axes>"
      ]
     },
     "metadata": {},
     "output_type": "display_data"
    }
   ],
   "source": [
    "from sklearn.inspection import permutation_importance\n",
    "\n",
    "# Train your random forest model\n",
    "rf_best_model.fit(X_train, y_train)\n",
    "\n",
    "# Compute permutation feature importance\n",
    "perm_importance = permutation_importance(rf_best_model, X_test, y_test, n_repeats=30, random_state=42)\n",
    "\n",
    "# Get feature importance scores and names\n",
    "feature_importance = perm_importance.importances_mean\n",
    "feature_names = X_test.columns\n",
    "\n",
    "# Visualize feature importance\n",
    "plt.figure(figsize=(10, 6))\n",
    "sorted_indices = np.argsort(feature_importance)\n",
    "plt.barh(range(len(feature_names)), feature_importance[sorted_indices], align='center')\n",
    "plt.yticks(range(len(feature_names)), [feature_names[i] for i in sorted_indices])\n",
    "plt.xlabel('Permutation Importance')\n",
    "plt.ylabel('Features')\n",
    "plt.title('Permutation Feature Importance')\n",
    "plt.show()"
   ]
  },
  {
   "cell_type": "markdown",
   "id": "b1ad691d-0e3b-4257-b262-ef01f49854d6",
   "metadata": {},
   "source": [
    "By looking at the plot and observing the permutation importance we can see that Bilirubin and PLatelets contribute the greatest towards the model's performance. This closely matches the results obtained through Feature Importance also showing that Bilirubin was the most important feature.\n",
    "\n",
    "However following these two features Permutation importance suggests that Platelets and Age next greatest contributing features which deviates from the findings found through Feature Importance.\n",
    "\n",
    "In terms of the least contributing features Permutation Importance identifies that Sex, SGOT and Cholesterol are the considered the least important, which again is different to the least important features identified through Feature Importance (Spiders and Ascites)\n"
   ]
  }
 ],
 "metadata": {
  "kernelspec": {
   "display_name": "Python 3 (ipykernel)",
   "language": "python",
   "name": "python3"
  },
  "language_info": {
   "codemirror_mode": {
    "name": "ipython",
    "version": 3
   },
   "file_extension": ".py",
   "mimetype": "text/x-python",
   "name": "python",
   "nbconvert_exporter": "python",
   "pygments_lexer": "ipython3",
   "version": "3.11.5"
  }
 },
 "nbformat": 4,
 "nbformat_minor": 5
}
